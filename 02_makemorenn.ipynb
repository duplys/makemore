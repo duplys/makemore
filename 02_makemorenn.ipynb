{
 "cells": [
  {
   "cell_type": "markdown",
   "metadata": {},
   "source": [
    "# Bigram Language Model using Neural Network\n",
    "\n",
    "In this notebook, we will use a neural network to build a character-level bigram model. In other words, the result will be similar, but we will use a completely different approach. "
   ]
  },
  {
   "cell_type": "markdown",
   "metadata": {},
   "source": [
    "Continue at 1:05:29"
   ]
  }
 ],
 "metadata": {
  "language_info": {
   "name": "python"
  }
 },
 "nbformat": 4,
 "nbformat_minor": 2
}
